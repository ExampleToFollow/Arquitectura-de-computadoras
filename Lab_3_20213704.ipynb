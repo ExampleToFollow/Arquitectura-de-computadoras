{
 "cells": [
  {
   "cell_type": "code",
   "execution_count": 117,
   "metadata": {},
   "outputs": [
    {
     "name": "stdout",
     "output_type": "stream",
     "text": [
      "Arquitectura:                            x86_64\n",
      "  modo(s) de operación de las CPUs:      32-bit, 64-bit\n",
      "  Address sizes:                         39 bits physical, 48 bits virtual\n",
      "  Orden de los bytes:                    Little Endian\n",
      "CPU(s):                                  16\n",
      "  Lista de la(s) CPU(s) en línea:        0-15\n",
      "ID de fabricante:                        GenuineIntel\n",
      "  Nombre del modelo:                     Intel(R) Core(TM) i7-10700 CPU @ 2.90GH\n",
      "                                         z\n",
      "    Familia de CPU:                      6\n",
      "    Modelo:                              165\n",
      "    Hilo(s) de procesamiento por núcleo: 2\n",
      "    Núcleo(s) por «socket»:              8\n",
      "    «Socket(s)»                          1\n",
      "    Revisión:                            5\n",
      "    CPU MHz máx.:                        4800,0000\n",
      "    CPU MHz mín.:                        800,0000\n",
      "    BogoMIPS:                            5799.77\n",
      "    Indicadores:                         fpu vme de pse tsc msr pae mce cx8 apic\n",
      "                                          sep mtrr pge mca cmov pat pse36 clflus\n",
      "                                         h dts acpi mmx fxsr sse sse2 ss ht tm p\n",
      "                                         be syscall nx pdpe1gb rdtscp lm constan\n",
      "                                         t_tsc art arch_perfmon pebs bts rep_goo\n",
      "                                         d nopl xtopology nonstop_tsc cpuid aper\n",
      "                                         fmperf pni pclmulqdq dtes64 monitor ds_\n",
      "                                         cpl vmx smx est tm2 ssse3 sdbg fma cx16\n",
      "                                          xtpr pdcm pcid sse4_1 sse4_2 x2apic mo\n",
      "                                         vbe popcnt tsc_deadline_timer aes xsave\n",
      "                                          avx f16c rdrand lahf_lm abm 3dnowprefe\n",
      "                                         tch cpuid_fault epb invpcid_single ssbd\n",
      "                                          ibrs ibpb stibp ibrs_enhanced tpr_shad\n",
      "                                         ow vnmi flexpriority ept vpid ept_ad fs\n",
      "                                         gsbase tsc_adjust bmi1 avx2 smep bmi2 e\n",
      "                                         rms invpcid mpx rdseed adx smap clflush\n",
      "                                         opt intel_pt xsaveopt xsavec xgetbv1 xs\n",
      "                                         aves dtherm ida arat pln pts hwp hwp_no\n",
      "                                         tify hwp_act_window hwp_epp pku ospke m\n",
      "                                         d_clear flush_l1d arch_capabilities\n",
      "Virtualization features:                 \n",
      "  Virtualización:                        VT-x\n",
      "Caches (sum of all):                     \n",
      "  L1d:                                   256 KiB (8 instances)\n",
      "  L1i:                                   256 KiB (8 instances)\n",
      "  L2:                                    2 MiB (8 instances)\n",
      "  L3:                                    16 MiB (1 instance)\n",
      "NUMA:                                    \n",
      "  Modo(s) NUMA:                          1\n",
      "  CPU(s) del nodo NUMA 0:                0-15\n",
      "Vulnerabilities:                         \n",
      "  Itlb multihit:                         KVM: Mitigation: VMX disabled\n",
      "  L1tf:                                  Not affected\n",
      "  Mds:                                   Not affected\n",
      "  Meltdown:                              Not affected\n",
      "  Mmio stale data:                       Mitigation; Clear CPU buffers; SMT vuln\n",
      "                                         erable\n",
      "  Retbleed:                              Mitigation; Enhanced IBRS\n",
      "  Spec store bypass:                     Mitigation; Speculative Store Bypass di\n",
      "                                         sabled via prctl\n",
      "  Spectre v1:                            Mitigation; usercopy/swapgs barriers an\n",
      "                                         d __user pointer sanitization\n",
      "  Spectre v2:                            Mitigation; Enhanced IBRS, IBPB conditi\n",
      "                                         onal, RSB filling, PBRSB-eIBRS SW seque\n",
      "                                         nce\n",
      "  Srbds:                                 Mitigation; Microcode\n",
      "  Tsx async abort:                       Not affected\n"
     ]
    }
   ],
   "source": [
    "! lscpu"
   ]
  },
  {
   "cell_type": "code",
   "execution_count": 119,
   "metadata": {},
   "outputs": [
    {
     "name": "stdout",
     "output_type": "stream",
     "text": [
      "Overwriting suma_cubos.c\n"
     ]
    }
   ],
   "source": [
    "%%file suma_cubos.c\n",
    "#include <math.h>\n",
    "double suma_cubos(int * vector, int cantidad_elementos){\n",
    "    double suma=0;\n",
    "    for(int i=0; i<=cantidad_elementos-1;i++){\n",
    "        suma=suma+ pow((double)vector[i],3.0);\n",
    "    }\n",
    "    return suma;\n",
    "}"
   ]
  },
  {
   "cell_type": "code",
   "execution_count": 120,
   "metadata": {},
   "outputs": [],
   "source": [
    "! gcc -Os -c suma_cubos.c -lm -o suma_cubos.o"
   ]
  },
  {
   "cell_type": "code",
   "execution_count": 121,
   "metadata": {},
   "outputs": [
    {
     "name": "stdout",
     "output_type": "stream",
     "text": [
      "\n",
      "suma_cubos.o:     formato del fichero elf64-x86-64\n",
      "\n",
      "\n",
      "Desensamblado de la sección .text:\n",
      "\n",
      "0000000000000000 <suma_cubos>:\n",
      "   0:\tf3 0f 1e fa          \tendbr64 \n",
      "   4:\t41 54                \tpush   r12\n",
      "   6:\t0f 57 d2             \txorps  xmm2,xmm2\n",
      "   9:\t49 89 fc             \tmov    r12,rdi\n",
      "   c:\t55                   \tpush   rbp\n",
      "   d:\t89 f5                \tmov    ebp,esi\n",
      "   f:\t53                   \tpush   rbx\n",
      "  10:\t31 db                \txor    ebx,ebx\n",
      "  12:\t48 83 ec 10          \tsub    rsp,0x10\n",
      "  16:\t39 dd                \tcmp    ebp,ebx\n",
      "  18:\t7e 2c                \tjle    46 <suma_cubos+0x46>\n",
      "  1a:\tf2 41 0f 2a 04 9c    \tcvtsi2sd xmm0,DWORD PTR [r12+rbx*4]\n",
      "  20:\t48 8b 05 00 00 00 00 \tmov    rax,QWORD PTR [rip+0x0]        # 27 <suma_cubos+0x27>\n",
      "  27:\tf2 0f 11 54 24 08    \tmovsd  QWORD PTR [rsp+0x8],xmm2\n",
      "  2d:\t48 ff c3             \tinc    rbx\n",
      "  30:\t66 48 0f 6e c8       \tmovq   xmm1,rax\n",
      "  35:\te8 00 00 00 00       \tcall   3a <suma_cubos+0x3a>\n",
      "  3a:\tf2 0f 10 54 24 08    \tmovsd  xmm2,QWORD PTR [rsp+0x8]\n",
      "  40:\tf2 0f 58 d0          \taddsd  xmm2,xmm0\n",
      "  44:\teb d0                \tjmp    16 <suma_cubos+0x16>\n",
      "  46:\t48 83 c4 10          \tadd    rsp,0x10\n",
      "  4a:\t0f 28 c2             \tmovaps xmm0,xmm2\n",
      "  4d:\t5b                   \tpop    rbx\n",
      "  4e:\t5d                   \tpop    rbp\n",
      "  4f:\t41 5c                \tpop    r12\n",
      "  51:\tc3                   \tret    \n"
     ]
    }
   ],
   "source": [
    "! objdump -M intel -j .text -D suma_cubos.o"
   ]
  },
  {
   "cell_type": "code",
   "execution_count": 230,
   "metadata": {},
   "outputs": [
    {
     "name": "stdout",
     "output_type": "stream",
     "text": [
      "Overwriting main.c\n"
     ]
    }
   ],
   "source": [
    "%%file main.c\n",
    "#include <stdio.h>\n",
    "#include <math.h>\n",
    "#include <stdlib.h>\n",
    "#include <time.h>\n",
    "#include <x86intrin.h>\n",
    "//Usamos la variable tipo int porque la funcion rand generara numeros aleatorios enteros entre 0 y 9\n",
    "int * Crear_arr( int N){\n",
    "    int *array = (int *)malloc(N*sizeof(int));\n",
    "    for(int i=0; i<=N-1; i++){\n",
    "        array[i]=rand()%9;\n",
    "        //printf(\"%d \", array[i]);\n",
    "    return array;\n",
    "}\n",
    "}\n",
    "//Usamos double porque tendremos sumas grandes\n",
    "double suma_cubos(int *vector, int cantidad_elementos){\n",
    "    double suma=0;\n",
    "    for(int i=0; i<=cantidad_elementos-1;i++){\n",
    "        suma=suma+ pow((double)vector[i],3.0);\n",
    "    }\n",
    "    return suma;\n",
    "}\n",
    "//se puede deducir que la cantidad de instrucciones es de Int= 7+9*n\n",
    "//Usaremos int porque solo trabajamos con enteros\n",
    "int num_instrucciones(int N){\n",
    "    return 7+N*9;\n",
    "}\n",
    "//Usamos long int en la entrada porque la diferencia entre ciclos suelen ser numeros muy grandes pero enteros\n",
    "double Calcular_CPI(long int cantidad_ciclos, int cantidad_instrucciones){\n",
    "    return (double)cantidad_ciclos/(double)cantidad_instrucciones;\n",
    "}\n",
    "//Usamos double porque los mips son divisiones\n",
    "double Calcular_MIPS(double frecuencia, double CPI){\n",
    "    return (double)frecuencia/(CPI*pow(10,6));\n",
    "}\n",
    "//Usamos void porque la funcion imprime varios valores\n",
    "void Test( int elementos_arreglo){\n",
    "    int *array;\n",
    "    srand(time(NULL));\n",
    "    double frecuencia =((4800+800)/2.0)*pow(10,6);\n",
    "    int numero_instrucciones=num_instrucciones(elementos_arreglo);\n",
    "    long int tic, toc, ciclo;\n",
    "    double CPI, MIPS, min_MIPS=999.0, max_MIPS=0.0, min_CPI=999.0, max_CPI=0.0, prom_MIPS=0.0, prom_CPI=0.0;\n",
    "    //Hacemos que la iterativa se repita 100 000 veces para comparar los CPI y MIPS en cada ejecucion al generar sumas de cubos de numeros randoms\n",
    "    for(int i=1; i<=100000; i++){\n",
    "        array= Crear_arr(elementos_arreglo);\n",
    "        tic= __rdtsc();\n",
    "        suma_cubos(array, elementos_arreglo);\n",
    "        toc= __rdtsc();\n",
    "        ciclo= toc-tic;\n",
    "        CPI=Calcular_CPI(ciclo, numero_instrucciones);\n",
    "        MIPS=Calcular_MIPS(frecuencia, CPI);\n",
    "        //printf(\"MIPS ES %lf\\n\", MIPS);\n",
    "        //printf(\"frecuencia es %lf\\n\", frecuencia);\n",
    "        //printf(\"cpi es %lf\\n\", CPI);\n",
    "        prom_CPI=prom_CPI+CPI;\n",
    "        prom_MIPS=prom_MIPS+MIPS;\n",
    "        if(CPI<=min_CPI){\n",
    "            min_CPI=CPI;\n",
    "        }\n",
    "        if(CPI>=max_CPI){\n",
    "            max_CPI=CPI;\n",
    "        }\n",
    "        if(MIPS>=max_MIPS){\n",
    "            max_MIPS=MIPS;\n",
    "        }\n",
    "        if(MIPS<=min_MIPS){\n",
    "            min_MIPS=MIPS;\n",
    "        }\n",
    "    }\n",
    "    prom_CPI=prom_CPI/100000.0;\n",
    "    prom_MIPS=prom_MIPS/100000.0;\n",
    "    printf(\"El máximo valor del CPI es %lf\\n\", max_CPI);\n",
    "    printf(\"EL minimo valor del CPI es %lf\\n\", min_CPI);\n",
    "    printf(\"EL valor promedio del CPI es %lf\\n\", prom_CPI);\n",
    "    printf(\"El máximo valor del MIPS es %lf\\n\", max_MIPS);\n",
    "    printf(\"EL minimo valor del MIPS es %lf\\n\", min_MIPS);\n",
    "    printf(\"EL valor promedio del MIPS es %lf\\n\", prom_MIPS);\n",
    "}\n",
    "\n",
    "\n",
    "int main(int argc, char const *argv[]){\n",
    "    int N;\n",
    "    if(argc==1){\n",
    "        Test(16384);\n",
    "    }\n",
    "    if(argc==2){\n",
    "        N=atoi(argv[1]);\n",
    "        Test(N);\n",
    "    }\n",
    "    if(argc>2){\n",
    "        printf(\"Está pasando más de la cantidad de los argumentos requeridos\\n\");\n",
    "        printf(\"Debe ingresar un valor para la cantidad de elementos del arreglo\\n\");\n",
    "        return 0;\n",
    "    }\n",
    "    return 0;\n",
    "}\n"
   ]
  },
  {
   "cell_type": "code",
   "execution_count": 231,
   "metadata": {},
   "outputs": [],
   "source": [
    "! gcc main.c -lm -o main"
   ]
  },
  {
   "cell_type": "code",
   "execution_count": 232,
   "metadata": {},
   "outputs": [
    {
     "name": "stdout",
     "output_type": "stream",
     "text": [
      "El máximo valor del CPI es 4.750331\n",
      "EL minimo valor del CPI es 1.886419\n",
      "EL valor promedio del CPI es 1.983925\n",
      "El máximo valor del MIPS es 1484.293813\n",
      "EL minimo valor del MIPS es 589.432661\n",
      "EL valor promedio del MIPS es 1415.539081\n"
     ]
    }
   ],
   "source": [
    "! ./main "
   ]
  },
  {
   "cell_type": "code",
   "execution_count": 233,
   "metadata": {},
   "outputs": [
    {
     "name": "stdout",
     "output_type": "stream",
     "text": [
      "Está pasando más de la cantidad de los argumentos requeridos\n",
      "Debe ingresar un valor para la cantidad de elementos del arreglo\n"
     ]
    }
   ],
   "source": [
    "! ./main 1 1"
   ]
  },
  {
   "cell_type": "code",
   "execution_count": 234,
   "metadata": {},
   "outputs": [
    {
     "name": "stdout",
     "output_type": "stream",
     "text": [
      "Está pasando más de la cantidad de los argumentos requeridos\n",
      "Debe ingresar un valor para la cantidad de elementos del arreglo\n"
     ]
    }
   ],
   "source": [
    "! ./main 1 1 1"
   ]
  },
  {
   "cell_type": "code",
   "execution_count": 235,
   "metadata": {},
   "outputs": [
    {
     "name": "stdout",
     "output_type": "stream",
     "text": [
      "El máximo valor del CPI es 3.964404\n",
      "EL minimo valor del CPI es 1.921860\n",
      "EL valor promedio del CPI es 1.993717\n",
      "El máximo valor del MIPS es 1456.922016\n",
      "EL minimo valor del MIPS es 706.285271\n",
      "EL valor promedio del MIPS es 1408.192986\n"
     ]
    }
   ],
   "source": [
    "! ./main 32768"
   ]
  },
  {
   "cell_type": "code",
   "execution_count": 236,
   "metadata": {},
   "outputs": [
    {
     "name": "stdout",
     "output_type": "stream",
     "text": [
      "El máximo valor del CPI es 7.744998\n",
      "EL minimo valor del CPI es 1.920653\n",
      "EL valor promedio del CPI es 2.006401\n",
      "El máximo valor del MIPS es 1457.837677\n",
      "EL minimo valor del MIPS es 361.523667\n",
      "EL valor promedio del MIPS es 1401.035067\n"
     ]
    }
   ],
   "source": [
    "! ./main 32768"
   ]
  },
  {
   "cell_type": "code",
   "execution_count": 237,
   "metadata": {},
   "outputs": [
    {
     "name": "stdout",
     "output_type": "stream",
     "text": [
      "El máximo valor del CPI es 8.286345\n",
      "EL minimo valor del CPI es 1.927671\n",
      "EL valor promedio del CPI es 1.995022\n",
      "El máximo valor del MIPS es 1452.530167\n",
      "EL minimo valor del MIPS es 337.905324\n",
      "EL valor promedio del MIPS es 1406.052634\n"
     ]
    }
   ],
   "source": [
    "! ./main 65536"
   ]
  },
  {
   "cell_type": "code",
   "execution_count": 239,
   "metadata": {},
   "outputs": [
    {
     "name": "stdout",
     "output_type": "stream",
     "text": [
      "El máximo valor del CPI es 6.019633\n",
      "EL minimo valor del CPI es 1.891096\n",
      "EL valor promedio del CPI es 1.991350\n",
      "El máximo valor del MIPS es 1480.622936\n",
      "EL minimo valor del MIPS es 465.144656\n",
      "EL valor promedio del MIPS es 1408.491226\n"
     ]
    }
   ],
   "source": [
    "! ./main 65536"
   ]
  }
 ],
 "metadata": {
  "kernelspec": {
   "display_name": "Python 3",
   "language": "python",
   "name": "python3"
  },
  "language_info": {
   "codemirror_mode": {
    "name": "ipython",
    "version": 3
   },
   "file_extension": ".py",
   "mimetype": "text/x-python",
   "name": "python",
   "nbconvert_exporter": "python",
   "pygments_lexer": "ipython3",
   "version": "3.10.6"
  },
  "orig_nbformat": 4
 },
 "nbformat": 4,
 "nbformat_minor": 2
}
