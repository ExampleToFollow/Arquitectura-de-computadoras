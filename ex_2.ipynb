{
 "cells": [
  {
   "cell_type": "code",
   "execution_count": 16,
   "metadata": {},
   "outputs": [],
   "source": [
    "import math\n",
    "\n",
    "# y = (e^sumatoria)^1/N\n",
    "# y^N = e^sumatoria\n",
    "# N*log(y) = sumatoria\n",
    "# f(y) = N*log(y) - sumatoria\n",
    "# y0 = sumatoria\n",
    "# y1 = y0 - (N*log(y0) - sumatoria)/(N/y0)\n",
    "def media_geo_py(arreglo, precision, N):\n",
    "    sum = 0\n",
    "    for i in range(N):\n",
    "        sum = sum + math.log(arreglo[i])\n",
    "    y_0 = 1\n",
    "    while(1):\n",
    "        y_1 = y_0 - (N*math.log(y_0 )-sum)/(N/y_0)\n",
    "        if(abs(y_1-y_0)/y_1 < precision):\n",
    "            break\n",
    "        y_0 = y_1 \n",
    "    return y_1 \n"
   ]
  },
  {
   "cell_type": "code",
   "execution_count": 17,
   "metadata": {},
   "outputs": [
    {
     "name": "stdout",
     "output_type": "stream",
     "text": [
      "Overwriting media_geo_c.c\n"
     ]
    }
   ],
   "source": [
    "%%file media_geo_c.c\n",
    "#include <stdio.h>\n",
    "#include <stdlib.h>\n",
    "#include <math.h>\n",
    "double media_geo_c(int *array, double precision, int N){\n",
    "    double sum = 0;\n",
    "    for (int i = 0 ; i < N ; i++){\n",
    "        sum = sum + log(array[i]);\n",
    "    }\n",
    "    double y_0 = 1.0;\n",
    "    double y_1;\n",
    "    while(1){\n",
    "         y_1 = y_0 - (N*log(y_0 )-sum)/(N/y_0);\n",
    "        if(fabs(y_1 - y_0)/y_1 < precision){\n",
    "            break;\n",
    "        }\n",
    "        y_0 = y_1;\n",
    "    }\n",
    "    return y_1;\n",
    "}"
   ]
  },
  {
   "cell_type": "code",
   "execution_count": 18,
   "metadata": {},
   "outputs": [],
   "source": [
    "! gcc -c media_geo_c.c -o media_geo_c.o"
   ]
  },
  {
   "cell_type": "code",
   "execution_count": 19,
   "metadata": {},
   "outputs": [],
   "source": [
    "! gcc -shared media_geo_c.c -o media_geo_c.so"
   ]
  },
  {
   "cell_type": "code",
   "execution_count": 23,
   "metadata": {},
   "outputs": [],
   "source": [
    "import math\n",
    "def geo(array):\n",
    "    pro = 1\n",
    "    for i in range(len(array)):\n",
    "        pro = pro * array[i]\n",
    "    return pro**(1/len(array))"
   ]
  },
  {
   "cell_type": "code",
   "execution_count": 29,
   "metadata": {},
   "outputs": [
    {
     "name": "stdout",
     "output_type": "stream",
     "text": [
      "4.830320888481328\n",
      "4.830320888481327\n",
      "4.830320888481327\n"
     ]
    }
   ],
   "source": [
    "import ctypes\n",
    "import numpy as np\n",
    "lib = ctypes.CDLL(\"./media_geo_c.so\")\n",
    "lib.media_geo_c.argtypes = [np.ctypeslib.ndpointer(dtype = np.int32) , ctypes.c_double, ctypes.c_int] \n",
    "lib.media_geo_c.restype = ctypes.c_double \n",
    "\n",
    "array = np.random.randint(1,10,8, dtype = \"int32\")\n",
    "precision = 1e-15\n",
    "\n",
    "ref = geo(array)\n",
    "media_c = lib.media_geo_c(array, precision, len(array ))\n",
    "media_py = media_geo_py(array, precision , len(array))\n",
    "\n",
    "print(ref)\n",
    "print(media_c)\n",
    "print(media_py)\n"
   ]
  },
  {
   "cell_type": "code",
   "execution_count": 30,
   "metadata": {},
   "outputs": [
    {
     "name": "stdout",
     "output_type": "stream",
     "text": [
      "28.471000405261293\n",
      "342.3790003580507\n"
     ]
    }
   ],
   "source": [
    "import time\n",
    "import statistics \n",
    "N=1024\n",
    "array = np.random.randint(1,10,N, dtype = \"int32\")\n",
    "precision = 1e-15\n",
    "lista_c = []\n",
    "lista_py = []\n",
    "for i in range(50):\n",
    "\n",
    "    tic= time.perf_counter()\n",
    "    lib.media_geo_c(array, precision, len(array ))\n",
    "    toc = time.perf_counter()\n",
    "    lista_c.append((toc-tic)*1e6)\n",
    "    tic =time.perf_counter()\n",
    "    media_geo_py(array, precision , len(array))\n",
    "    toc= time.perf_counter()\n",
    "    lista_py.append((toc-tic)*1e6)\n",
    "\n",
    "print(statistics.median(lista_c))\n",
    "print(statistics.median(lista_py))"
   ]
  },
  {
   "cell_type": "code",
   "execution_count": 35,
   "metadata": {},
   "outputs": [
    {
     "name": "stderr",
     "output_type": "stream",
     "text": [
      "/tmp/ipykernel_4846/2669798162.py:5: RuntimeWarning: overflow encountered in scalar multiply\n",
      "  pro = pro * array[i]\n",
      "/tmp/ipykernel_4846/2669798162.py:6: RuntimeWarning: invalid value encountered in power\n",
      "  return pro**(1/len(array))\n"
     ]
    },
    {
     "name": "stdout",
     "output_type": "stream",
     "text": [
      "[7.897000614320859, 8.20099921838846, 13.713999578612857, 9.432998922420666, 10.077499609906226, 12.086500646546483, 22.966500182519667, 27.38750299613457, 51.324501328053884, 107.81550190586131]\n",
      "[6.002499503665604, 8.68499955686275, 29.607001124531962, 25.208999431924894, 47.24300197267439, 93.84799886902329, 196.75299881782848, 405.7655005453853, 779.4535013090353, 1632.245001019328]\n",
      "[5.526500899577513, 7.486500180675648, 48.649499149178155, 53.955500334268436, 63.926499933586456, 95.09499977866653, 170.76150106731802, 318.0204985255841, 591.737500144518, 1195.7910010096384]\n"
     ]
    }
   ],
   "source": [
    "N = [16,32,64,128,256,512,1024,2048,4096,8192]\n",
    "precision = 1e-15\n",
    "iteraciones = 50\n",
    "time_c= []\n",
    "time_py = []\n",
    "time_ref = []\n",
    "for j in N:\n",
    "    lista_c = []\n",
    "    lista_py = []\n",
    "    lista_ref=[]\n",
    "    array = np.random.randint(1,10,j, dtype = \"int32\")\n",
    "    for i in range(50):\n",
    "\n",
    "        tic= time.perf_counter()\n",
    "        lib.media_geo_c(array, precision, len(array ))\n",
    "        toc = time.perf_counter()\n",
    "        lista_c.append((toc-tic)*1e6)\n",
    "\n",
    "        tic =time.perf_counter()\n",
    "        media_geo_py(array, precision , len(array))\n",
    "        toc= time.perf_counter()\n",
    "        lista_py.append((toc-tic)*1e6)\n",
    "\n",
    "        tic =time.perf_counter()\n",
    "        geo(array)\n",
    "        toc= time.perf_counter()\n",
    "        lista_ref.append((toc-tic)*1e6)\n",
    "    time_c.append(statistics.median(lista_c ))\n",
    "    time_py.append(statistics.median(lista_py ))\n",
    "    time_ref.append(statistics.median(lista_ref ))\n",
    "\n",
    "print(time_c )\n",
    "print(time_py)\n",
    "print(time_ref)\n"
   ]
  },
  {
   "cell_type": "code",
   "execution_count": 36,
   "metadata": {},
   "outputs": [
    {
     "data": {
      "text/plain": [
       "Text(0.5, 1.0, 'SpeedUp')"
      ]
     },
     "execution_count": 36,
     "metadata": {},
     "output_type": "execute_result"
    },
    {
     "data": {
      "image/png": "[encoded data removed]",
      "text/plain": [
       "<Figure size 640x480 with 1 Axes>"
      ]
     },
     "metadata": {},
     "output_type": "display_data"
    }
   ],
   "source": [
    "import matplotlib.pyplot as plt\n",
    "#SU= tiempo sin mejora / tiempo con mejora\n",
    "SU_c= []\n",
    "SU_py = []\n",
    "for i in range(len(time_c)):\n",
    "    SU_c.append(time_ref[i]/time_c[i])\n",
    "\n",
    "for i in range(len(time_py)):\n",
    "    SU_py.append(time_ref[i]/time_py[i])\n",
    "\n",
    "plt.plot(N, SU_c,\"-o\")\n",
    "plt.plot(N, SU_py,\"-o\")\n",
    "plt.grid()\n",
    "plt.legend([\"SpeedUp en C\", \"SpeedUp de Py\"])\n",
    "plt.title(\"SpeedUp\")\n",
    "\n"
   ]
  }
 ],
 "metadata": {
  "kernelspec": {
   "display_name": "Python 3",
   "language": "python",
   "name": "python3"
  },
  "language_info": {
   "codemirror_mode": {
    "name": "ipython",
    "version": 3
   },
   "file_extension": ".py",
   "mimetype": "text/x-python",
   "name": "python",
   "nbconvert_exporter": "python",
   "pygments_lexer": "ipython3",
   "version": "3.8.16"
  },
  "orig_nbformat": 4
 },
 "nbformat": 4,
 "nbformat_minor": 2
}
