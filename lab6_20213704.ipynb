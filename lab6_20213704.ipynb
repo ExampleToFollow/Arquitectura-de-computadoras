{
  "cells": [
    {
      "cell_type": "markdown",
      "metadata": {
        "id": "6hYqIcXl8oby"
      },
      "source": [
        "# Laboratorio 6\n",
        "\n",
        "Indicaciones generales:\n",
        "\n",
        "* En lo que respecta a `C` no deberá usar punteros, ni arreglos. Tampoco se deberá emplear administración de memoria dinámica, ni de funciones auxiliares de ninguna librería.\n",
        "\n",
        "* Los puntajes de ítems relacionados con mediciones de tiempo, error relativo y presentación de gráficos solo serán asignados en caso sus funciones estén correctamente implementadas.\n",
        "\n",
        "* Las funciones implementadas solo deberán tener los argumentos mencionados en sus respectivos ítems.\n",
        "\n",
        "* Los resultados de la función `_slow_` serán las referencias para medir los speedups.\n",
        "\n",
        "* No se puede emplear ChatGPT, ni ningún modelo de lenguaje.\n",
        "\n",
        "* Puede emplear apuntes, clases y hacer consultas en foros de internet."
      ]
    },
    {
      "cell_type": "code",
      "execution_count": 1,
      "metadata": {
        "id": "paAUiOUEf63U"
      },
      "outputs": [],
      "source": [
        "# no borrar esta celda\n",
        "! rm *.c *.o *.so"
      ]
    },
    {
      "cell_type": "markdown",
      "metadata": {
        "id": "aToubh8_9Mf7"
      },
      "source": [
        "## Ejercicio"
      ]
    },
    {
      "cell_type": "markdown",
      "metadata": {
        "id": "DLiudWQMxCN4"
      },
      "source": [
        "El coseno de un ángulo `x` se calcula con la siguiente serie:\n",
        "\n",
        "$$\n",
        "cos(x) = 1 - \\frac{x^{2}}{2!} + \\frac{x^{4}}{4!} - \\frac{x^{6}}{6!} + \\frac{x^{8}}{8!} - \\cdots\n",
        "$$\n",
        "\n",
        "Durante el laboratorio se le solicitará implementar una grupo de funciones basados en esta serie."
      ]
    },
    {
      "cell_type": "markdown",
      "metadata": {
        "id": "KFL8Xx67x1dM"
      },
      "source": [
        "1. Implementar una función en `python` que calcule el coseno de un ángulo `x`.\n",
        "\n",
        "Nombre: `py_slow_cos`\n",
        "\n",
        "Argumentos:\n",
        "* `x` : ángulo\n",
        "* `n_terms`: cantidad de términos\n",
        "\n",
        "Resultado: `cos(x)`\n",
        "\n",
        "Observaciones: \n",
        "\n",
        "* No debe emplear funciones de módulos auxiliaries, ni suyas propias. \n",
        "* Todo se debe hacer dentro de la función."
      ]
    },
    {
      "cell_type": "code",
      "execution_count": 9,
      "metadata": {},
      "outputs": [],
      "source": [
        "def py_slow_cos(x,n_terms):\n",
        "    suma = 0\n",
        "    for i in range(n_terms):\n",
        "        n=2*i\n",
        "        if(i==0):\n",
        "            fact=1\n",
        "        else:\n",
        "            fact=1\n",
        "            for j in range(1,n+1):\n",
        "                fact=fact*j\n",
        "        term=(x**(2*i))/fact\n",
        "        suma=suma+(term*((-1)**i))\n",
        "    return suma"
      ]
    },
    {
      "cell_type": "code",
      "execution_count": 10,
      "metadata": {},
      "outputs": [
        {
          "name": "stdout",
          "output_type": "stream",
          "text": [
            "-1.0000000035290801\n"
          ]
        }
      ],
      "source": [
        "import math\n",
        "print(py_slow_cos(math.pi,10))"
      ]
    },
    {
      "cell_type": "markdown",
      "metadata": {
        "id": "tZb2TQFkyZLB"
      },
      "source": [
        "2. Implementar una función en `python` que calcule el coseno de un ángulo `x`.\n",
        "\n",
        "Nombre: `py_fast_cos`\n",
        "\n",
        "Argumentos:\n",
        "* `x` : ángulo\n",
        "* `n_terms`: cantidad de términos\n",
        "\n",
        "Resultado: `cos(x)`\n",
        "\n",
        "Observaciones: \n",
        "* No puede emplear factorial de ninguna manera. \n",
        "* No debe emplear funciones de módulos auxiliares, ni suyas propias.\n",
        "* Debe ser iterativo.\n",
        "* Sugerencia: Deducir el término $t_{n}$ en función del término $t_{n-1}$"
      ]
    },
    {
      "cell_type": "code",
      "execution_count": 11,
      "metadata": {},
      "outputs": [],
      "source": [
        "def py_fast_cos(x,n_terms):\n",
        "    term=1\n",
        "    suma=0\n",
        "    for i in range(n_terms):\n",
        "        if(i==0):\n",
        "            suma=1\n",
        "        else:\n",
        "            n=2*i\n",
        "            term=(-1*term*x*x)*(1.0/(n*(n-1)))\n",
        "            suma=suma+term\n",
        "    return suma"
      ]
    },
    {
      "cell_type": "code",
      "execution_count": 12,
      "metadata": {},
      "outputs": [
        {
          "name": "stdout",
          "output_type": "stream",
          "text": [
            "-1.0000000035290808\n"
          ]
        }
      ],
      "source": [
        "import math\n",
        "print(py_fast_cos(math.pi,10))"
      ]
    },
    {
      "cell_type": "markdown",
      "metadata": {
        "id": "S-UTwnAly7J_"
      },
      "source": [
        "3. En una celda mágica implementar dos versiones en `C` para la función `py_fast_cos`. Una versión trabajará con tipo `double` y otra trabajará con tipo `long double`. Considere que estas funciones tienen los mismos argumentos que la función `py_fast_cos`.\n",
        "\n",
        "Observaciones:\n",
        "\n",
        "* Justifique el tipo de dato de cada uno de los argumentos.\n",
        "* Justifique el tipo de dato que devuelve la función."
      ]
    },
    {
      "cell_type": "code",
      "execution_count": 13,
      "metadata": {},
      "outputs": [
        {
          "name": "stdout",
          "output_type": "stream",
          "text": [
            "Overwriting C_cosx.c\n"
          ]
        }
      ],
      "source": [
        "%%file C_cosx.c\n",
        "#include <stdio.h>\n",
        "#include <stdint.h>\n",
        "#usaos double como argumento porque los datos pueden ser decimales o numeros irracionales como pi\n",
        "#usamos uint_64 para que no halla problemas al usar ctypes (problemas de compatibilidad)\n",
        "double cos_x_fast_1 (double x,uint64_t n_terms ){\n",
        "    double term=1;\n",
        "    double suma=0.0;\n",
        "    for (int i=0; i<n_terms; i++){\n",
        "        if(i==0){\n",
        "            suma=1;\n",
        "        }else{\n",
        "            int n=2*i;\n",
        "            term=(-1*term*x*x)*(1.0/(n*(n-1.0)));\n",
        "            suma=suma+term;\n",
        "        }\n",
        "    }\n",
        "    return suma;\n",
        "}\n",
        "#lo mismo q el anterior pero los usamos para mayor precision\n",
        "long double cos_x_fast_2 (long double x,uint64_t n_terms ){\n",
        "    long double term=1;\n",
        "    long double suma=0.0;\n",
        "    uint64_t n;\n",
        "    for (int i=0; i<n_terms; i++){\n",
        "        if(i==0){\n",
        "            suma=1;\n",
        "        }else{\n",
        "            uint64_t n=2*i;\n",
        "            term=(-1*term*x*x)*(1.0/(long double)(n*(n-1)));\n",
        "            suma=suma+term;\n",
        "        }\n",
        "    }\n",
        "    return suma;\n",
        "}"
      ]
    },
    {
      "cell_type": "markdown",
      "metadata": {
        "id": "xTSS1cuczfEL"
      },
      "source": [
        "4. Crear el *object file* y la *shared library*"
      ]
    },
    {
      "cell_type": "code",
      "execution_count": 14,
      "metadata": {},
      "outputs": [],
      "source": [
        "! gcc -c C_cosx.c -o C_cosx.o"
      ]
    },
    {
      "cell_type": "code",
      "execution_count": 15,
      "metadata": {},
      "outputs": [],
      "source": [
        "! gcc -shared C_cosx.o -o C_cosx.so  "
      ]
    },
    {
      "cell_type": "markdown",
      "metadata": {
        "id": "pGaNmLYp0B0k"
      },
      "source": [
        "5. Hacer una función que enlace con `Python` mediante `ctypes` las funciones anteriores. Esta función debe devolver las dos funciones configuradas."
      ]
    },
    {
      "cell_type": "code",
      "execution_count": 16,
      "metadata": {},
      "outputs": [],
      "source": [
        "import ctypes\n",
        "def Ctypes_funcs():\n",
        "    libfile = './C_cosx.so'\n",
        "    lib= ctypes.CDLL(libfile)\n",
        "    lib.cos_x_fast_1.argtypes = [ctypes.c_double, ctypes.c_uint64]\n",
        "    lib.cos_x_fast_1.restype = ctypes.c_double\n",
        "    lib.cos_x_fast_2.argtypes = [ctypes.c_longdouble, ctypes.c_uint64]\n",
        "    lib.cos_x_fast_2.restype = ctypes.c_longdouble\n",
        "    return lib.cos_x_fast_1, lib.cos_x_fast_2"
      ]
    },
    {
      "cell_type": "markdown",
      "metadata": {
        "id": "0H67KecC0KKc"
      },
      "source": [
        "6. Haga una instancia de las dos funciones"
      ]
    },
    {
      "cell_type": "code",
      "execution_count": 17,
      "metadata": {},
      "outputs": [],
      "source": [
        "cos_x_fast_1, cos_x_fast_2 = Ctypes_funcs()\n"
      ]
    },
    {
      "cell_type": "code",
      "execution_count": 18,
      "metadata": {},
      "outputs": [
        {
          "name": "stdout",
          "output_type": "stream",
          "text": [
            "-1.0000000000000009\n",
            "-1.0\n"
          ]
        }
      ],
      "source": [
        "import math\n",
        "print((cos_x_fast_1(math.pi,10000)))\n",
        "print((cos_x_fast_2(math.pi,10000)))"
      ]
    },
    {
      "cell_type": "markdown",
      "metadata": {
        "id": "0MBLgUiu0abD"
      },
      "source": [
        "7. Implemente una función que de forma iterativa encuentre la cantidad de términos que requieren sus funciones para calcular con una determinada precisión el seno de un grupo de ángulos definidos entre $[inf, sup]$.\n",
        "\n",
        "Nombre de la función: `encontrar_n_terms`\n",
        "\n",
        "Argumentos:\n",
        "\n",
        "* `f`: función\n",
        "\n",
        "* `inf`: extremo izquierdo del dominio\n",
        "\n",
        "* `sup`: extremo derecho del dominio\n",
        "\n",
        "* `n_angs`: cantidad de ángulos\n",
        "\n",
        "* `pre`: precisión\n",
        "\n",
        "Resultado: Cantidad de términos\n",
        "\n",
        "Observaciones: \n",
        "* Puede usar la función `linspace` del módulo `numpy` para crear su vector de ángulos, y la función `norm` del submódulo `linalg` del módulo `numpy` para calcular la norma de un arreglo. \n",
        "* Para su referencia considere el resultado de la función `cos` del módulo `numpy`.\n",
        "\n"
      ]
    },
    {
      "cell_type": "code",
      "execution_count": 19,
      "metadata": {},
      "outputs": [],
      "source": [
        "import numpy as np\n",
        "\n",
        "def encontrar_n_terms(f,inf,sup,n_angs,pre):\n",
        "    angulo= np.linspace(inf, sup, num=n_angs)\n",
        "    referencia= np.cos(angulo)\n",
        "    n_terms=1\n",
        "    lista_res=[]\n",
        "    while(True):\n",
        "        \n",
        "        for i in range(len(referencia)):\n",
        "            lista_res.append(f(angulo[i],n_terms))\n",
        "\n",
        "        error= np.linalg.norm(lista_res-referencia)/np.linalg.norm(referencia)\n",
        "        if(error<pre):\n",
        "            break\n",
        "        n_terms = n_terms+1\n",
        "        lista_res=[]\n",
        "\n",
        "    return n_terms"
      ]
    },
    {
      "cell_type": "markdown",
      "metadata": {
        "id": "P2oP98tp1uob"
      },
      "source": [
        "8. Haga una prueba de `encontrar_n_terms` para cada una de sus funciones. \n",
        "\n",
        "Considere:\n",
        "* `inf` = -2pi\n",
        "* `sup` = 2pi\n",
        "* `n_angs` = 1000\n",
        "* `pre` = 4e-15\n",
        "\n",
        "Observación: Cada resultado debe estar asignado a una variable independiente y ser mostrado en una celda"
      ]
    },
    {
      "cell_type": "code",
      "execution_count": 20,
      "metadata": {},
      "outputs": [
        {
          "name": "stdout",
          "output_type": "stream",
          "text": [
            "19\n"
          ]
        }
      ],
      "source": [
        "import math\n",
        "inf= -2*math.pi\n",
        "sup= 2*math.pi\n",
        "n_angs= 1000\n",
        "pre= 4e-15\n",
        "print(encontrar_n_terms(py_fast_cos,inf, sup, n_angs, pre))"
      ]
    },
    {
      "cell_type": "code",
      "execution_count": 21,
      "metadata": {},
      "outputs": [
        {
          "name": "stdout",
          "output_type": "stream",
          "text": [
            "19\n"
          ]
        }
      ],
      "source": [
        "print(encontrar_n_terms(py_slow_cos,inf, sup, n_angs, pre))"
      ]
    },
    {
      "cell_type": "code",
      "execution_count": 22,
      "metadata": {},
      "outputs": [
        {
          "name": "stdout",
          "output_type": "stream",
          "text": [
            "19\n"
          ]
        }
      ],
      "source": [
        "print(encontrar_n_terms(cos_x_fast_1,inf, sup, n_angs, pre))"
      ]
    },
    {
      "cell_type": "code",
      "execution_count": 23,
      "metadata": {},
      "outputs": [
        {
          "name": "stdout",
          "output_type": "stream",
          "text": [
            "19\n"
          ]
        }
      ],
      "source": [
        "print(encontrar_n_terms(cos_x_fast_2,inf, sup, n_angs, pre))"
      ]
    },
    {
      "cell_type": "markdown",
      "metadata": {
        "id": "UB_oUDg22Gq5"
      },
      "source": [
        "9. Implemente una función que realice una cantidad de mediciones de tiempo de alguna de sus funciones que calcula el coseno y devuelva la mediana de esas mediciones.\n",
        "\n",
        "Nombre de la función: `encontrar_mediana_de_mediciones_cos`\n",
        "Argumentos:\n",
        "* `f`: función\n",
        "* `ang`: ángulo de la función\n",
        "* `n_terms`: cantidad de términos de la función\n",
        "* `n_iter`: cantidad de iteraciones\n",
        "\n",
        "Resultado: Mediana de las mediciones realizadas.\n",
        "\n",
        "Observación: Puede emplear la función `median` del módulo `statistics`."
      ]
    },
    {
      "cell_type": "code",
      "execution_count": 24,
      "metadata": {},
      "outputs": [],
      "source": [
        "import time\n",
        "import statistics\n",
        "def encontrar_mediana_de_mediciones_cos(f, ang, n_terms, n_iter):\n",
        "    lista=[]\n",
        "    for i in range(n_iter):\n",
        "        tic = time.perf_counter()\n",
        "        f(ang,n_terms)\n",
        "        toc = time.perf_counter()\n",
        "        tiempo=toc-tic\n",
        "        lista.append(tiempo)\n",
        "    mediana= statistics.median(lista)\n",
        "    return mediana"
      ]
    },
    {
      "cell_type": "markdown",
      "metadata": {
        "id": "cplcMhUb3Dpk"
      },
      "source": [
        "10. Haga dos pruebas de `encontrar_mediana_de_mediciones_cos` para cada una de sus funciones. \n",
        "\n",
        "Prueba 1 :\n",
        "* `ang` = `inf`\n",
        "* `n_iter` = 50\n",
        "\n",
        "Prueba 2 :\n",
        "* `ang` = `sup`\n",
        "* `n_iter` = 50\n",
        "\n",
        "Observaciones:\n",
        "\n",
        "* Cada función empleará su cantidad de términos previamente calculados\n",
        "* Cada resultado deberá ser asignado a una variable independiente"
      ]
    },
    {
      "cell_type": "code",
      "execution_count": 25,
      "metadata": {},
      "outputs": [
        {
          "name": "stdout",
          "output_type": "stream",
          "text": [
            "0.016255500668194145\n",
            "0.016019001122913323\n",
            "0.00498200097354129\n",
            "0.005115998646942899\n",
            "0.0005625024641631171\n",
            "0.00044199987314641476\n",
            "0.0004659996193367988\n",
            "0.00046300010581035167\n"
          ]
        }
      ],
      "source": [
        "#slow\n",
        "slow_1=encontrar_mediana_de_mediciones_cos(py_slow_cos, -2*math.pi, 19, 50)*10**3\n",
        "slow_2=encontrar_mediana_de_mediciones_cos(py_slow_cos, 2*math.pi, 19, 50)*10**3\n",
        "#fast\n",
        "fast_1=encontrar_mediana_de_mediciones_cos(py_fast_cos, -2*math.pi, 19, 50)*10**3\n",
        "fast_2=encontrar_mediana_de_mediciones_cos(py_fast_cos, 2*math.pi, 19, 50)*10**3\n",
        "\n",
        "#cos_1_double\n",
        "cos_1_1=encontrar_mediana_de_mediciones_cos(cos_x_fast_1, -2*math.pi, 19, 50)*10**3\n",
        "cos_1_2=encontrar_mediana_de_mediciones_cos(cos_x_fast_1, 2*math.pi, 19, 50)*10**3\n",
        "\n",
        "#c_2_double_long\n",
        "cos_2_1=encontrar_mediana_de_mediciones_cos(cos_x_fast_2, -2*math.pi, 19, 50)*10**3\n",
        "cos_2_2=encontrar_mediana_de_mediciones_cos(cos_x_fast_2, 2*math.pi, 19, 50)*10**3\n",
        "\n",
        "\n",
        "print(slow_1)\n",
        "print(slow_2)\n",
        "print(fast_1)\n",
        "print(fast_2)\n",
        "print(cos_1_1)\n",
        "print(cos_1_2)\n",
        "print(cos_2_1)\n",
        "print(cos_2_2)"
      ]
    },
    {
      "cell_type": "markdown",
      "metadata": {
        "id": "B9v-TYsn5Bos"
      },
      "source": [
        "11. Presente gráficos de barras de las medianas de los tiempos y de los speedups a partir de sus resultados del ítem anterior"
      ]
    },
    {
      "cell_type": "code",
      "execution_count": 26,
      "metadata": {},
      "outputs": [
        {
          "data": {
            "image/png": "[encoded data removed]",
            "text/plain": [
              "<Figure size 640x480 with 1 Axes>"
            ]
          },
          "metadata": {},
          "output_type": "display_data"
        }
      ],
      "source": [
        "import matplotlib.pyplot as plt\n",
        "import statistics\n",
        "medianas= slow_1, slow_2, fast_1, fast_2 , cos_1_1, cos_1_2, cos_2_1 , cos_2_2\n",
        "fig = plt.figure()\n",
        "ax = fig.add_axes ([0,0,1,1])\n",
        "casos = ['slow_1', 'slow_2', 'fast_1', 'fast_2', 'cos_double_1', 'cos_double_2', 'cos_long_1', 'cos_long_2']\n",
        "ax.bar(casos,medianas)\n",
        "plt.title(\"Medianas de tiempos en milisegundos\")\n",
        "plt.show()"
      ]
    },
    {
      "cell_type": "markdown",
      "metadata": {
        "id": "xLWCijBd5Kqd"
      },
      "source": [
        "12. Implemente una función en `Python` que calcule el seno de un arreglo de ángulos.\n",
        "\n",
        "Nombre de la función: `calc_cosens`\n",
        "\n",
        "Argumentos:\n",
        "* `f`: función\n",
        "* `inf`: extremo izquierdo del dominio\n",
        "* `sup`: extremo derecho del dominio\n",
        "* `n_angs`: cantidad de ángulos\n",
        "* `n_terms`: cantidad de términos de la función `f`\n",
        "\n",
        "Resultado: Arreglo de `numpy` con los senos de los ángulos\n",
        "\n",
        "Observación: Puede emplear la función `linspace` del módulo `numpy` para crear su arreglo de ángulos."
      ]
    },
    {
      "cell_type": "code",
      "execution_count": 27,
      "metadata": {},
      "outputs": [],
      "source": [
        "import numpy as np\n",
        "import math\n",
        "def calc_cosens(f,inf, sup, n_angs, n_terms):\n",
        "    arreglo=np.linspace(inf,sup, num=n_angs)\n",
        "    lista=[]\n",
        "    for i in range(len(arreglo)):\n",
        "        lista.append(f(arreglo[i], n_terms))\n",
        "    return lista"
      ]
    },
    {
      "cell_type": "markdown",
      "metadata": {
        "id": "jEmXSZYK6BTi"
      },
      "source": [
        "13. Implemente una función que realice una cantidad de mediciones de tiempo de su función anterior y devuelva la mediana de esas mediciones.\n",
        "\n",
        "Nombre de la función: `encontrar_mediana_de_mediciones_calc_cosens`\n",
        "\n",
        "Argumentos:\n",
        "* `f`: función\n",
        "* `inf`: extremo izquierdo del dominio\n",
        "* `sup`: extremo derecho del dominio\n",
        "* `n_terms`: cantidad de términos de la función\n",
        "* `n_iter`: cantidad de iteraciones\n",
        "\n",
        "Resultado: Mediana de las mediciones realizadas.\n",
        "\n",
        "Observación: Puede emplear la función `median` del módulo `statistics`."
      ]
    },
    {
      "cell_type": "code",
      "execution_count": 28,
      "metadata": {},
      "outputs": [],
      "source": [
        "import time\n",
        "import statistics\n",
        "def encontrar_mediana_de_mediciones_calc_cosens(f,inf, sup,n_angs ,n_terms, n_iter ):\n",
        "    lista=[]\n",
        "    for j in range(n_iter):\n",
        "        tic=time.perf_counter()\n",
        "        calc_cosens(f,inf, sup, n_angs, n_terms)\n",
        "        toc=time.perf_counter()\n",
        "        lista.append(toc-tic)\n",
        "    return statistics.median(lista)"
      ]
    },
    {
      "cell_type": "markdown",
      "metadata": {
        "id": "YJL00rpY6kYE"
      },
      "source": [
        "14. Haga pruebas de `encontrar_mediana_de_mediciones_cosens` para cada una de sus funciones. \n",
        "\n",
        "Observaciones:\n",
        "\n",
        "* Los valores para `inf`, `sup`, `n_angs` y `n_iter` serán los mismos que los definidos anteriormente\n",
        "* Cada función empleará su cantidad de términos previamente calculados\n",
        "* Cada resultado deberá ser asignado a una variable independiente"
      ]
    },
    {
      "cell_type": "code",
      "execution_count": 29,
      "metadata": {},
      "outputs": [
        {
          "name": "stdout",
          "output_type": "stream",
          "text": [
            "[30.788542999289348, 4.831655000089086, 0.49988649880106095, 0.5204674998822156]\n"
          ]
        }
      ],
      "source": [
        "n_slow = encontrar_mediana_de_mediciones_calc_cosens(py_slow_cos,inf, sup,n_angs ,19, 50 )*10**3\n",
        "n_fast = encontrar_mediana_de_mediciones_calc_cosens(py_fast_cos,inf, sup,n_angs ,19, 50 )*10**3\n",
        "fast_1 = encontrar_mediana_de_mediciones_calc_cosens(cos_x_fast_1,inf, sup,n_angs ,19, 50 )*10**3\n",
        "fast_2 = encontrar_mediana_de_mediciones_calc_cosens(cos_x_fast_2,inf, sup,n_angs ,19, 50 )*10**3\n",
        "lista_new =[n_slow, n_fast , fast_1 , fast_2]\n",
        "print([n_slow, n_fast , fast_1 , fast_2])"
      ]
    },
    {
      "cell_type": "markdown",
      "metadata": {
        "id": "8aD3NdZD7IHT"
      },
      "source": [
        "15. Presente gráficas de barras de las medianas calculadas en el item anterior y de los speedups a partir de los resultados del ítem anterior."
      ]
    },
    {
      "cell_type": "code",
      "execution_count": 30,
      "metadata": {},
      "outputs": [
        {
          "data": {
            "image/png": "[encoded data removed]",
            "text/plain": [
              "<Figure size 640x480 with 1 Axes>"
            ]
          },
          "metadata": {},
          "output_type": "display_data"
        }
      ],
      "source": [
        "fig = plt.figure()\n",
        "ax = fig.add_axes ([0,0,1,1])\n",
        "casos = ['slow', 'fast', 'c_double', 'c_long']\n",
        "ax.bar(casos,lista_new)\n",
        "plt.title(\"las listas son: \")\n",
        "plt.show()"
      ]
    },
    {
      "cell_type": "code",
      "execution_count": 31,
      "metadata": {},
      "outputs": [
        {
          "data": {
            "image/png": "[encoded data removed]",
            "text/plain": [
              "<Figure size 640x480 with 1 Axes>"
            ]
          },
          "metadata": {},
          "output_type": "display_data"
        }
      ],
      "source": [
        "#GRAFICA SPEEDUPS\n",
        "lista=[lista_new[0]/lista_new[1], lista_new[0]/lista_new[2],lista_new[0]/lista_new[3]]\n",
        "fig = plt.figure()\n",
        "ax = fig.add_axes ([0,0,1,1])\n",
        "casos = ['speedup slow-fast', 'speedup c_double', 'speedup-c_long']\n",
        "ax.bar(casos,lista)\n",
        "plt.title(\"los speedups son: \")\n",
        "plt.show()"
      ]
    },
    {
      "cell_type": "markdown",
      "metadata": {
        "id": "c2I-zZWtAIT1"
      },
      "source": [
        "## Distribución de puntaje\n",
        "\n",
        "| ítem | puntos |\n",
        "|:----:|:------:|\n",
        "|   1  |    1   |\n",
        "|   2  |    2   |\n",
        "|   3  |    4   |\n",
        "|   4  |   0.5  |\n",
        "|   5  |   0.5  |\n",
        "|   6  |   0.5  |\n",
        "|   7  |   1.5  |\n",
        "|   8  |   0.5  |\n",
        "|   9  |   1.5  |\n",
        "|  10  |   0.5  |\n",
        "|  11  |   0.5  |\n",
        "|  12  |   0.5  |\n",
        "|  13  |   0.5  |\n",
        "|  14  |   0.5  |\n",
        "|  15  |   0.5  |"
      ]
    }
  ],
  "metadata": {
    "colab": {
      "provenance": []
    },
    "kernelspec": {
      "display_name": "Python 3",
      "name": "python3"
    },
    "language_info": {
      "codemirror_mode": {
        "name": "ipython",
        "version": 3
      },
      "file_extension": ".py",
      "mimetype": "text/x-python",
      "name": "python",
      "nbconvert_exporter": "python",
      "pygments_lexer": "ipython3",
      "version": "3.10.6"
    }
  },
  "nbformat": 4,
  "nbformat_minor": 0
}
